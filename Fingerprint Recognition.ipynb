{
 "cells": [
  {
   "cell_type": "code",
   "execution_count": 7,
   "metadata": {},
   "outputs": [],
   "source": [
    "### This project essentially captures a search feature for audio files.\n",
    "### The following program allows you to search for a particular sound (series of sound)\n",
    "### from the file you wanted to search for."
   ]
  },
  {
   "cell_type": "code",
   "execution_count": 8,
   "metadata": {},
   "outputs": [],
   "source": [
    "from scipy import fft, arange, signal\n",
    "from scipy.special import logit, expit\n",
    "import numpy as np\n",
    "import matplotlib.pyplot as plt\n",
    "from scipy.io import wavfile\n",
    "import os\n",
    "from ttictoc import TicToc"
   ]
  },
  {
   "cell_type": "code",
   "execution_count": 9,
   "metadata": {},
   "outputs": [],
   "source": [
    "def read_file(path):\n",
    "    \"\"\"\n",
    "    Reads the audio .wav file and returns the sample rate and data contents of the file.\n",
    "    \"\"\"\n",
    "    sr, signal = wavfile.read(path)\n",
    "    return sr, signal[:,0]"
   ]
  },
  {
   "cell_type": "code",
   "execution_count": 10,
   "metadata": {},
   "outputs": [],
   "source": [
    "def read_all(files):\n",
    "    \"\"\"Branch audio file extrapolation. Uses read_file() method.\"\"\"\n",
    "    ret = []\n",
    "    t = TicToc()\n",
    "    t.tic();\n",
    "    for fl in files:\n",
    "        ret.append(read_file(fl))\n",
    "    t.toc();\n",
    "    print(\"Time it took to read data from files of length \", len(files), \" = \", round(t.elapsed, 3), \" seconds.\")\n",
    "    return np.array(ret)"
   ]
  },
  {
   "cell_type": "code",
   "execution_count": 11,
   "metadata": {},
   "outputs": [],
   "source": [
    "def frequency_sepectrum(sf, x):\n",
    "    \"\"\"\n",
    "    Derive frequency spectrum of a signal from time domain\n",
    "    :param x: signal in the time domain\n",
    "    :param sf: sampling frequency\n",
    "    :returns frequencies and their content distribution\n",
    "    \"\"\"\n",
    "    x = x - np.average(x)  # zero-centering\n",
    "\n",
    "    n = len(x)\n",
    "    k = arange(n)\n",
    "    tarr = n / float(sf)\n",
    "    frqarr = k / float(tarr)  # two sides frequency range\n",
    "\n",
    "    frqarr = frqarr[range(n // 2)]  # one side frequency range\n",
    "\n",
    "    x = fft(x) / n  # fft computing and normalization\n",
    "    x = x[range(n // 2)]\n",
    "\n",
    "    return frqarr, abs(x)"
   ]
  },
  {
   "cell_type": "code",
   "execution_count": 12,
   "metadata": {},
   "outputs": [],
   "source": [
    "def plot(sample_rate, signal, state=False):\n",
    "    \"\"\"\n",
    "    Method responsible for converting from time domain to frequency\n",
    "    via the discrete fourier analysis function created in frequency_sepectrum().\n",
    "    Option to form a plot of the resultant frequency domain graph with its frequency content distribution.\n",
    "    Returns:\n",
    "    1. Y: The frequencies.\n",
    "    2. frq: The content distribution.\n",
    "    \"\"\"\n",
    "    frq, Y = frequency_sepectrum(sample_rate, signal)\n",
    "    frq = frq\n",
    "    Y = Y\n",
    "    if(state == True):\n",
    "        plt.plot(frq, Y)\n",
    "    return Y, frq"
   ]
  },
  {
   "cell_type": "code",
   "execution_count": 13,
   "metadata": {},
   "outputs": [],
   "source": [
    "def fourier_transformation(sample_rates, signals):\n",
    "    \"\"\"\n",
    "    Return Foureir Transformation for each individual plot.\n",
    "    Note: the first index is reserved for Test file.\n",
    "    Parameters: \n",
    "    1. sample_rates: np.array() array \n",
    "    \"\"\"\n",
    "    Y = []\n",
    "    frequencies = []\n",
    "    for sr,sig in zip(sample_rates, signals):\n",
    "        content_distribution, frq = plot(sr, sig)\n",
    "        Y.append(frq)\n",
    "        frequencies.append(content_distribution)\n",
    "    return np.array(Y), np.array(frequencies)"
   ]
  },
  {
   "cell_type": "code",
   "execution_count": 73,
   "metadata": {},
   "outputs": [],
   "source": [
    "def sort_list(lists):\n",
    "    \"\"\"\n",
    "    Sorts a dictionary based on values().\n",
    "    Return the sorted dictionary. Accepts an unsorted dictionary.\n",
    "    \"\"\"\n",
    "    listofTuples = sorted(lists.items() , reverse=True, key=lambda x: x[1])\n",
    "    # Iterate over the sorted sequence\n",
    "    data = []\n",
    "    for elem in listofTuples :\n",
    "        data.append((elem[0], elem[1]))  \n",
    "    return data"
   ]
  },
  {
   "cell_type": "code",
   "execution_count": 15,
   "metadata": {},
   "outputs": [],
   "source": [
    "def find_deviation(point, tests, titles):\n",
    "    \"\"\"\n",
    "    Finds the deviation from the np.array() 'point' based on individual np.array() 'tests'.\n",
    "    \"\"\"\n",
    "    delta = {}\n",
    "    t = TicToc()\n",
    "    t.tic()\n",
    "    for test, title in zip(tests, titles):\n",
    "        one_res = percent_calculator(point, test)\n",
    "        delta[title] = one_res\n",
    "    t.toc()\n",
    "    print(\"Time taken(s): \", round(t.elapsed, 3))\n",
    "    return sort_list(delta), delta"
   ]
  },
  {
   "cell_type": "code",
   "execution_count": 130,
   "metadata": {},
   "outputs": [],
   "source": [
    "def percent_calculator(A, B):\n",
    "    \"\"\"\n",
    "    Finds the distribution from SAMPLE based on TEST data.\n",
    "    Uses jacard similarity.\n",
    "    \"\"\"\n",
    "    intersection = 0\n",
    "    union = 0\n",
    "    for a,b in zip(A,B):\n",
    "        if(round(a) == round(b)):\n",
    "            intersection += 1\n",
    "    union = abs(len(A) + len(B) - intersection)\n",
    "    percent = intersection/float(union)\n",
    "    return percent"
   ]
  },
  {
   "cell_type": "markdown",
   "metadata": {},
   "source": [
    "### main() calibration"
   ]
  },
  {
   "cell_type": "code",
   "execution_count": 17,
   "metadata": {},
   "outputs": [],
   "source": [
    "def retrieve_all_files(path=None):\n",
    "    \"\"\"\n",
    "    Returns a list of audio files with the extension, .wav, as an np.array() object.\n",
    "    Parameters:\n",
    "    1. path (current directory if left empty): The path of directory to scrape through. str object.\n",
    "    \"\"\"\n",
    "    import os\n",
    "    files = os.listdir(path)\n",
    "    refurbished_list = []\n",
    "    for file in files:\n",
    "        if(file.endswith(\".wav\")):\n",
    "            refurbished_list.append(file)\n",
    "    return np.array(refurbished_list)"
   ]
  },
  {
   "cell_type": "code",
   "execution_count": 18,
   "metadata": {},
   "outputs": [
    {
     "name": "stdout",
     "output_type": "stream",
     "text": [
      "Time it took to read data from files of length  9  =  0.385  seconds.\n"
     ]
    }
   ],
   "source": [
    "files = retrieve_all_files()\n",
    "data = read_all(files)"
   ]
  },
  {
   "cell_type": "code",
   "execution_count": 33,
   "metadata": {},
   "outputs": [],
   "source": [
    "def retrieve_sample_signals(data):\n",
    "    \"\"\"\n",
    "    Splits data(above) into signal and sample_rate arrays.\n",
    "    \"\"\"\n",
    "    dsp = []\n",
    "    sr = []\n",
    "    for df in data:\n",
    "        sr.append(df[0])\n",
    "        dsp.append(df[1])\n",
    "    return sr, dsp"
   ]
  },
  {
   "cell_type": "code",
   "execution_count": 34,
   "metadata": {},
   "outputs": [],
   "source": [
    "SR, DSP = retrieve_sample_signals(data)"
   ]
  },
  {
   "cell_type": "code",
   "execution_count": 25,
   "metadata": {},
   "outputs": [],
   "source": [
    "frequencies, content_distribution = fourier_transformation(SR, DSP)"
   ]
  },
  {
   "cell_type": "code",
   "execution_count": 134,
   "metadata": {},
   "outputs": [
    {
     "name": "stdout",
     "output_type": "stream",
     "text": [
      "Comparing --- Animals, batch test 1.wav --- To everything else.\n",
      "Time taken(s):  8.022\n"
     ]
    }
   ],
   "source": [
    "i = 2\n",
    "print(\"Comparing ---\", files[i], \"--- To everything else.\")\n",
    "result, unsorted_result = find_deviation(content_distribution[i], content_distribution, files)"
   ]
  },
  {
   "cell_type": "code",
   "execution_count": 135,
   "metadata": {},
   "outputs": [
    {
     "name": "stdout",
     "output_type": "stream",
     "text": [
      "Animals Live Test.wav\n",
      "Animals,  Shazam Project Test.wav\n",
      "Animals, batch test 1.wav\n",
      "Dynoro & Gigi DAgostino - In My Mind.wav\n",
      "Ed Sheeran - Thinking Out Loud (x Acoustic Session).wav\n",
      "Ed Sheeran - Thinking Out Loud - (Live At Capitals Jingle Bell Ball 2017).wav\n",
      "Martin Garrix - Animals (test#1).wav\n",
      "Marvin Gaye - Lets get it on.wav\n",
      "Thinking out Loud.wav\n"
     ]
    }
   ],
   "source": [
    "for f in files:\n",
    "    print(f)"
   ]
  },
  {
   "cell_type": "code",
   "execution_count": 136,
   "metadata": {},
   "outputs": [
    {
     "data": {
      "text/plain": [
       "[('Animals, batch test 1.wav', 1.0),\n",
       " ('Animals Live Test.wav', 0.03610654040959191),\n",
       " ('Animals,  Shazam Project Test.wav', 0.019080601212973544),\n",
       " ('Ed Sheeran - Thinking Out Loud (x Acoustic Session).wav',\n",
       "  0.013207947792407797),\n",
       " ('Dynoro & Gigi DAgostino - In My Mind.wav', 0.01269164798761251),\n",
       " ('Martin Garrix - Animals (test#1).wav', 0.011179707033263039),\n",
       " ('Ed Sheeran - Thinking Out Loud - (Live At Capitals Jingle Bell Ball 2017).wav',\n",
       "  0.010606541316016072),\n",
       " ('Thinking out Loud.wav', 0.007224504873985058),\n",
       " ('Marvin Gaye - Lets get it on.wav', 0.005057723597453788)]"
      ]
     },
     "execution_count": 136,
     "metadata": {},
     "output_type": "execute_result"
    }
   ],
   "source": [
    "result"
   ]
  },
  {
   "cell_type": "code",
   "execution_count": 137,
   "metadata": {},
   "outputs": [],
   "source": [
    "#Reflection... Kinda works, need to work on implementing a better percent modulization curve model."
   ]
  }
 ],
 "metadata": {
  "kernelspec": {
   "display_name": "Python 3",
   "language": "python",
   "name": "python3"
  },
  "language_info": {
   "codemirror_mode": {
    "name": "ipython",
    "version": 3
   },
   "file_extension": ".py",
   "mimetype": "text/x-python",
   "name": "python",
   "nbconvert_exporter": "python",
   "pygments_lexer": "ipython3",
   "version": "3.7.3"
  }
 },
 "nbformat": 4,
 "nbformat_minor": 2
}
